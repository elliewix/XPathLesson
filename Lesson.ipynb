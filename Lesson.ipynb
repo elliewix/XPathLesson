{
 "cells": [
  {
   "cell_type": "markdown",
   "metadata": {},
   "source": [
    "# XPath Lesson"
   ]
  },
  {
   "cell_type": "markdown",
   "metadata": {},
   "source": [
    "The object of this lesson is to introduce XPath syntax and show how it is used within the LXML Python package.  XPath is a powerful query language for XML data structures.  Many systems support XPath queries, including the Oxygen XML editor and several Python packages.  This lesson will focus on how it can be used within Python, but the core XPath content should be relevant enough you to follow along using a package or tool of your choice.  There will be two distinct sections:  how to run XPath queries in Python and how XPath queries are written.  You may choose to follow along with the second section using whichever framework you are comfortable in.\n",
    "\n",
    "The scope of this lession will also be limited to just getting started and being able to run queries.  This includes, reading in a set of XML files, running XPath queries on them, and outputting the results.  XSLT or writing out XML files will not be covered, as they belong in separate lessons.\n",
    "\n",
    "## What you will need:\n",
    "\n",
    "* a set of XML files\n",
    "* a computer with Python or another platform to execute XPath queries\n",
    "* at a minimum, a working comfort of Python\n",
    "* to use Pip\n",
    "* have LXML installed for your Python instance"
   ]
  },
  {
   "cell_type": "markdown",
   "metadata": {},
   "source": [
    "## Why XPath?\n",
    "\n",
    "As stated above, XPath is a query language for working on XML trees.  Many tutorials, usually those teasing at web scraping tasks, will show how a regular expression may be used to extract data out of XML data structures.  This is not an impossible task, depending on the situation, but using a regex in such a situation can pose a dangerous and short path.  XPath is designed to run queries on XML and as such is easier to work with for complex and unpredictable data structures.\n",
    "\n",
    "Let's dwell on this query language/data structure relationship for a moment:\n",
    "\n",
    "* Regular expressions are designed to work at the level of individual characters\n",
    "* XPath is designed to work at the level of XML elements\n",
    "* SQL is designed to work at the level of cells in database tables\n",
    "\n",
    "While it may be tempting to try and make regular expressions work on an XML file, it can be dangerous because the structure of the raw text is nearly meaningless within the perspective of XML.  Let's look at an example XML file:\n",
    "\n",
    "``` XML\n",
    "<book>\n",
    "    <author>Human, A.</author>\n",
    "    <title>This is not a book</title>\n",
    "</book>\n",
    "```\n",
    "\n",
    "In this very limited example, a regular expression could easily catch the text between the `author` tag, but rarely do we have such simple XML.  Let's look at what happens when complexity is added.\n"
   ]
  },
  {
   "cell_type": "code",
   "execution_count": 1,
   "metadata": {
    "collapsed": true
   },
   "outputs": [],
   "source": [
    "text = [\"\"\"<book>\n",
    "    <author>Human, A.</author>\n",
    "    <title>This is not a book</title>\n",
    "</book>\n",
    "\"\"\" ,\n",
    "\n",
    "\"\"\"\n",
    "<book>\n",
    "    <author>Human, A.</author>\n",
    "    <author>Human, Another.</author>\n",
    "    <title>This is not a book</title>\n",
    "</book>\n",
    "\"\"\" ,\n",
    "\n",
    "\"\"\"\n",
    "<book><author>Human, A.</author><title>This is not a book</title></book>\n",
    "\"\"\" ]"
   ]
  },
  {
   "cell_type": "code",
   "execution_count": 2,
   "metadata": {
    "collapsed": false
   },
   "outputs": [
    {
     "name": "stdout",
     "output_type": "stream",
     "text": [
      "['Human, A.']\n",
      "['Human, A.', 'Human, Another.']\n",
      "['Human, A.']\n"
     ]
    }
   ],
   "source": [
    "import re\n",
    "\n",
    "for t in text:\n",
    "    print re.findall(r'<author>(.+)<\\/author>', t)"
   ]
  },
  {
   "cell_type": "markdown",
   "metadata": {},
   "source": [
    "This regex is holding strong..."
   ]
  },
  {
   "cell_type": "code",
   "execution_count": 10,
   "metadata": {
    "collapsed": false
   },
   "outputs": [
    {
     "data": {
      "text/plain": [
       "[]"
      ]
     },
     "execution_count": 10,
     "metadata": {},
     "output_type": "execute_result"
    }
   ],
   "source": [
    "book = \"\"\"\n",
    "<book>\n",
    "    <author kind = \"editor\">Human, A.</author>\n",
    "    <author kind    =  \"contributor\">Human, Another.</author>\n",
    "    <title>This is not a book</title>\n",
    "</book>\n",
    "\"\"\"\n",
    "\n",
    "re.findall(r'<author>(.+)<\\/author>', book)"
   ]
  },
  {
   "cell_type": "markdown",
   "metadata": {},
   "source": [
    "But regex treats all characters in the text as meaninful, when this is not true for the data structure we are working with."
   ]
  },
  {
   "cell_type": "code",
   "execution_count": null,
   "metadata": {
    "collapsed": true
   },
   "outputs": [],
   "source": [
    "re.findall(r'<author[\\s]>(.+)<\\/author>', book)"
   ]
  },
  {
   "cell_type": "code",
   "execution_count": null,
   "metadata": {
    "collapsed": true
   },
   "outputs": [],
   "source": []
  }
 ],
 "metadata": {
  "kernelspec": {
   "display_name": "Python 2",
   "language": "python",
   "name": "python2"
  },
  "language_info": {
   "codemirror_mode": {
    "name": "ipython",
    "version": 2
   },
   "file_extension": ".py",
   "mimetype": "text/x-python",
   "name": "python",
   "nbconvert_exporter": "python",
   "pygments_lexer": "ipython2",
   "version": "2.7.11"
  }
 },
 "nbformat": 4,
 "nbformat_minor": 0
}
