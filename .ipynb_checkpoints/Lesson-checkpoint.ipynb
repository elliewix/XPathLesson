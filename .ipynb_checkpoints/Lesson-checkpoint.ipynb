{
 "cells": [
  {
   "cell_type": "markdown",
   "metadata": {},
   "source": [
    "# XPath Lesson"
   ]
  },
  {
   "cell_type": "markdown",
   "metadata": {},
   "source": [
    "The object of this lesson is to introduce XPath syntax within the Python framework.  XPath is a powerful language that is designed to be a query language for XML content.  Many systems support XPath queries, including the Oxygen XML editor, but this lesson will focus on how it is used within Python.  There will be two distinct sections:  how to run XPath queries in Python and how XPath queries are written.  You may choose to follow along with the second section using whichever framework you are comfortable in.\n",
    "\n",
    "The scope of this lession will also be limited to just getting started and being able to run queries.  This includes, reading in a set of XML files, running XPath queries on them, and outputting the results.  XSLT or writing out XML files will not be covered, as they belong in separate lessons.\n",
    "\n",
    "## What you will need:\n",
    "\n",
    "* a set of XML files\n",
    "* a computer with Python, or another platform to execute XPath queries\n",
    "* a working, even if limited, knowledge of Python\n",
    "* to use Pip\n",
    "* have LXML installed for your Python instance"
   ]
  },
  {
   "cell_type": "markdown",
   "metadata": {},
   "source": [
    "## Why XPath?\n",
    "\n",
    "As stated above, XPath is a query language for working on XML trees.  Where XPath fits in is a question of granularity.\n",
    "\n",
    "* Regular expressions are designed to work at the level of individual characters\n",
    "* XPath is designed to work at the level of XML elements\n",
    "* SQL is designed to work at the level of cells in database tables\n",
    "\n",
    "While it may be tempting to try and make regular expressions work on an XML file, it can be very dangerous because the structure of the raw text is nearly meaningless within the perspective of XML.  Let's look at an example XML file.\n",
    "``` XML\n",
    "\n",
    "<book>\n",
    "    <author>Human, A.</author>\n",
    "    <title>This is not a book</title>\n",
    "</book>\n",
    "```\n",
    "\n",
    "Sure, a regular expression could catch the text between the `author` tag, but it has a lot of limitations.\n"
   ]
  },
  {
   "cell_type": "code",
   "execution_count": 3,
   "metadata": {
    "collapsed": true
   },
   "outputs": [],
   "source": [
    "text = [\"\"\"<book>\n",
    "    <author>Human, A.</author>\n",
    "    <title>This is not a book</title>\n",
    "</book>\n",
    "\"\"\" ,\n",
    "\n",
    "\"\"\"\n",
    "<book>\n",
    "    <author>Human, A.</author>\n",
    "\t <author>Human, Another.</author>\n",
    "    <title>This is not a book</title>\n",
    "</book>\n",
    "\"\"\" ,\n",
    "\n",
    "\"\"\"\n",
    "<book><author>Human, A.</author><title>This is not a book</title></book>\n",
    "\"\"\" ]"
   ]
  },
  {
   "cell_type": "code",
   "execution_count": 5,
   "metadata": {
    "collapsed": false
   },
   "outputs": [
    {
     "name": "stdout",
     "output_type": "stream",
     "text": [
      "['Human, A.']\n",
      "['Human, A.', 'Human, Another.']\n",
      "['Human, A.']\n"
     ]
    }
   ],
   "source": [
    "import re\n",
    "\n",
    "for t in text:\n",
    "    print re.findall(r'<author>(.+)<\\/author>', t)"
   ]
  },
  {
   "cell_type": "markdown",
   "metadata": {},
   "source": [
    "Yes, this works, but let's look at something more advanced."
   ]
  },
  {
   "cell_type": "code",
   "execution_count": null,
   "metadata": {
    "collapsed": true
   },
   "outputs": [],
   "source": []
  },
  {
   "cell_type": "code",
   "execution_count": null,
   "metadata": {
    "collapsed": true
   },
   "outputs": [],
   "source": []
  },
  {
   "cell_type": "code",
   "execution_count": null,
   "metadata": {
    "collapsed": true
   },
   "outputs": [],
   "source": []
  },
  {
   "cell_type": "code",
   "execution_count": null,
   "metadata": {
    "collapsed": true
   },
   "outputs": [],
   "source": []
  }
 ],
 "metadata": {
  "kernelspec": {
   "display_name": "Python 2",
   "language": "python",
   "name": "python2"
  },
  "language_info": {
   "codemirror_mode": {
    "name": "ipython",
    "version": 2
   },
   "file_extension": ".py",
   "mimetype": "text/x-python",
   "name": "python",
   "nbconvert_exporter": "python",
   "pygments_lexer": "ipython2",
   "version": "2.7.11"
  }
 },
 "nbformat": 4,
 "nbformat_minor": 0
}
